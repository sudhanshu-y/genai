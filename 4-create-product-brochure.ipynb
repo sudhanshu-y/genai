{
 "cells": [
  {
   "cell_type": "markdown",
   "id": "546b05e7-dbc2-426b-89fb-acbc5de33828",
   "metadata": {},
   "source": [
    "### BUSINESS CHALLENGE\n",
    "#### Create a product that builds a Brochure for a company to be used for prospective clients, investors and potential recruits.\n",
    "Company name and their primary website will be provided"
   ]
  },
  {
   "cell_type": "code",
   "execution_count": 1,
   "id": "fe7afd3b-26ca-42fc-9ccc-f8bfe72e9751",
   "metadata": {},
   "outputs": [],
   "source": [
    "import os\n",
    "import requests\n",
    "import json\n",
    "from typing import List\n",
    "from dotenv import load_dotenv\n",
    "from bs4 import BeautifulSoup\n",
    "from IPython.display import Markdown, display, update_display\n",
    "from openai import OpenAI"
   ]
  },
  {
   "cell_type": "code",
   "execution_count": 2,
   "id": "004fcfb6-67b9-47c9-8d50-bf88b8b6c1c9",
   "metadata": {},
   "outputs": [
    {
     "name": "stdout",
     "output_type": "stream",
     "text": [
      "API key looks good so far\n"
     ]
    }
   ],
   "source": [
    "load_dotenv()\n",
    "api_key = os.getenv('OPENAI_API_KEY')\n",
    "\n",
    "if api_key and api_key[:8]=='sk-proj-':\n",
    "    print(\"API key looks good so far\")\n",
    "else:\n",
    "    print(\"There might be a problem with your API key? Please visit the troubleshooting notebook!\")\n",
    "    \n",
    "MODEL = 'gpt-4o-mini'\n",
    "openai = OpenAI()"
   ]
  },
  {
   "cell_type": "code",
   "execution_count": 3,
   "id": "13d081ee-f761-483a-89ca-a8903782dd48",
   "metadata": {},
   "outputs": [],
   "source": [
    "class Website:\n",
    "    \"\"\"\n",
    "    A utility class to represent a Website that we have scraped, now with links\n",
    "    \"\"\"\n",
    "\n",
    "    def __init__(self, url):\n",
    "        self.url = url\n",
    "        response = requests.get(url)\n",
    "        self.body = response.content\n",
    "        \n",
    "        soup = BeautifulSoup(self.body, 'html.parser')\n",
    "        \n",
    "        self.title = soup.title.string if soup.title else \"No title found\"\n",
    "        \n",
    "        if soup.body:\n",
    "            for irrelevant in soup.body([\"script\", \"style\", \"img\", \"input\"]):\n",
    "                irrelevant.decompose()\n",
    "            self.text = soup.body.get_text(separator=\"\\n\", strip=True)\n",
    "        else:\n",
    "            self.text = \"\"\n",
    "        \n",
    "        links = [link.get('href') for link in soup.find_all('a')]\n",
    "        \n",
    "        # get valid links only - if link is not None\n",
    "        self.links = [link for link in links if link]\n",
    "\n",
    "    def get_contents(self):\n",
    "        return f\"Webpage Title:\\n{self.title}\\nWebpage Contents:\\n{self.text}\\n\\n\""
   ]
  },
  {
   "cell_type": "code",
   "execution_count": 4,
   "id": "1c951d96-12da-405c-82f2-0df5199ea385",
   "metadata": {},
   "outputs": [],
   "source": [
    "website = Website(\"https://www.amdocs.com/\")"
   ]
  },
  {
   "cell_type": "markdown",
   "id": "55350740-7231-45ad-8cf6-7285246959b3",
   "metadata": {},
   "source": [
    "## Extract useful links\n",
    "1) Use gpt-4o-mini to read the links on a webpage (one shot prompting)\n",
    "2) figure out which links are relevant\n",
    "3) respond in structured JSON"
   ]
  },
  {
   "cell_type": "code",
   "execution_count": 5,
   "id": "81e8a1ff-0db9-4235-8607-e7734c8b9122",
   "metadata": {},
   "outputs": [],
   "source": [
    "link_system_prompt = \"You are provided with a list of links found on a webpage. \\\n",
    "Your task is to decide which of the links would be most relevant to include in a brochure about the company, \\\n",
    "such as links to an About page, or a Company page, or Careers/Jobs pages etc..\\n\"\n",
    "link_system_prompt += \"You should respond in JSON as in this example:\"\n",
    "link_system_prompt += \"\"\"\n",
    "{\n",
    "    \"links\": [\n",
    "        {\"type\": \"About page\", \"url\": \"https://full.url/goes/here/about\"},\n",
    "        {\"type\": \"Careers page\": \"url\": \"https://another.full.url/careers\"}\n",
    "    ]\n",
    "}\n",
    "\"\"\""
   ]
  },
  {
   "cell_type": "code",
   "execution_count": 6,
   "id": "fd5b55d6-33d9-42a9-9fb5-b7d1a3bc642c",
   "metadata": {},
   "outputs": [],
   "source": [
    "def get_links_user_prompt(website):\n",
    "    user_prompt = f\"Here is the list of links on the website of {website.url} - \"\n",
    "    user_prompt += \"please decide which of these are relevant web links for a brochure about the company, respond with the full https URL in JSON format. \\\n",
    "Do not include Terms of Service, Privacy, email links.\\n\"\n",
    "    user_prompt += \"Links (some might be relative links):\\n\"\n",
    "    user_prompt += \"\\n\".join(website.links)\n",
    "    return user_prompt"
   ]
  },
  {
   "cell_type": "code",
   "execution_count": 7,
   "id": "e4d923fa-97d0-41a2-afc7-ca048fcabe11",
   "metadata": {},
   "outputs": [],
   "source": [
    "def get_links(url):\n",
    "    website = Website(url)\n",
    "    response = openai.chat.completions.create(\n",
    "        model=MODEL,\n",
    "        messages=[\n",
    "            {\"role\": \"system\", \"content\": link_system_prompt},\n",
    "            {\"role\": \"user\", \"content\": get_links_user_prompt(website)}\n",
    "        ]\n",
    "        ,response_format={\"type\": \"json_object\"}\n",
    "    )\n",
    "    result = response.choices[0].message.content\n",
    "    return json.loads(result)"
   ]
  },
  {
   "cell_type": "code",
   "execution_count": 8,
   "id": "96901d41-b45a-4f74-842b-9dd431f2e1bc",
   "metadata": {},
   "outputs": [
    {
     "data": {
      "text/plain": [
       "281"
      ]
     },
     "execution_count": 8,
     "metadata": {},
     "output_type": "execute_result"
    }
   ],
   "source": [
    "len(website.links)"
   ]
  },
  {
   "cell_type": "code",
   "execution_count": 9,
   "id": "163d8261-d77e-4bb3-8979-02ce9e10ff22",
   "metadata": {},
   "outputs": [
    {
     "data": {
      "text/plain": [
       "{'links': [{'type': 'About page', 'url': 'https://www.amdocs.com/about'},\n",
       "  {'type': 'Careers page', 'url': 'https://jobs.amdocs.com/careers'},\n",
       "  {'type': 'Our Purpose', 'url': 'https://www.amdocs.com/about/our-purpose'},\n",
       "  {'type': 'Our Customers',\n",
       "   'url': 'https://www.amdocs.com/about/our-customers'},\n",
       "  {'type': 'Corporate Social Responsibility',\n",
       "   'url': 'https://www.amdocs.com/about/corporate-social-responsibility'},\n",
       "  {'type': 'Products and Services',\n",
       "   'url': 'https://www.amdocs.com/products-services'},\n",
       "  {'type': 'News and Press', 'url': 'https://www.amdocs.com/news-press'}]}"
      ]
     },
     "execution_count": 9,
     "metadata": {},
     "output_type": "execute_result"
    }
   ],
   "source": [
    "get_links('https://www.amdocs.com/')"
   ]
  },
  {
   "cell_type": "markdown",
   "id": "b9afff51-b3f4-4931-ab82-2adbd3b8f90f",
   "metadata": {},
   "source": [
    "## make the brochure!"
   ]
  },
  {
   "cell_type": "code",
   "execution_count": 10,
   "id": "52e84979-474a-4b02-aba5-c8fcbf26288f",
   "metadata": {},
   "outputs": [],
   "source": [
    "def get_all_details(url):\n",
    "    result = \"Landing page:\\n\"\n",
    "    result += Website(url).get_contents()\n",
    "\n",
    "    # only useful links from landing webpae\n",
    "    links = get_links(url)\n",
    "    # print(\"Found links:\", links)\n",
    "    \n",
    "    for link in links[\"links\"]:\n",
    "        result += f\"\\n\\n{link['type']}\\n\"\n",
    "        result += Website(link[\"url\"]).get_contents()\n",
    "    return result"
   ]
  },
  {
   "cell_type": "code",
   "execution_count": 11,
   "id": "d7561572-0d3e-4e14-a1a0-14909e611382",
   "metadata": {},
   "outputs": [],
   "source": [
    "system_prompt = \"You are an assistant that analyzes the contents of several relevant pages from a company website \\\n",
    "and creates a short humorous, entertaining, jokey brochure about the company for prospective customers, investors and recruits. Respond in markdown.\\\n",
    "Include details of company culture, customers and careers/jobs etc.. if you have the information.\""
   ]
  },
  {
   "cell_type": "code",
   "execution_count": 12,
   "id": "9c4109ac-f517-4be1-b838-9e0b2b863fcc",
   "metadata": {},
   "outputs": [],
   "source": [
    "def get_brochure_user_prompt(company_name, url):\n",
    "    user_prompt = f\"You are looking at a company called: {company_name}\\n\"\n",
    "    user_prompt += f\"Here are the contents of its landing page and other relevant pages; use this information to build a short brochure of the company in markdown.\\n\"\n",
    "    user_prompt += get_all_details(url)\n",
    "    user_prompt = user_prompt[:20000] # Truncate if more than 20,000 characters\n",
    "    return user_prompt"
   ]
  },
  {
   "cell_type": "code",
   "execution_count": 13,
   "id": "4b48f028-32bd-4c8e-b837-6581edd7ea14",
   "metadata": {},
   "outputs": [],
   "source": [
    "def create_brochure(company_name, url):\n",
    "    response = openai.chat.completions.create(\n",
    "        model=MODEL,\n",
    "        messages=[\n",
    "            {\"role\": \"system\", \"content\": system_prompt},\n",
    "            {\"role\": \"user\", \"content\": get_brochure_user_prompt(company_name, url)}\n",
    "          ],\n",
    "    )\n",
    "    result = response.choices[0].message.content\n",
    "    display(Markdown(result))"
   ]
  },
  {
   "cell_type": "code",
   "execution_count": 14,
   "id": "3c1f85d1-7120-400e-af35-c30fed07106b",
   "metadata": {},
   "outputs": [
    {
     "data": {
      "text/markdown": [
       "# Welcome to Amdocs: Where Technology Meets Magic! 🎩✨\n",
       "\n",
       "## One Amazing Company\n",
       "\n",
       "At **Amdocs**, we help those who build the future to make it *amazing*. With over 30,000 employees touching the lives of billions every day, we're the wizards behind the scenes of the connected world. Imagine if Gandalf and Einstein teamed up in tech—you're halfway there!\n",
       "\n",
       "### Our Mission\n",
       "\n",
       "Driving the digital society forward with jaw-dropping technology (and a sprinkle of pixie dust). Whether it’s preparing for the 5G explosion or pulling rabbits out of hats using generative AI (our very own `amAIz` Platform), we’re here to transform your wildest dreams into reality.\n",
       "\n",
       "---\n",
       "\n",
       "## Who Do We Work With?\n",
       "\n",
       "**Big Shots of Telecom & Media:** We're talking about names like AT&T, BT, Comcast, and T-Mobile—just to name a few. We’ve got 350+ communications & service provider customers in over 85 countries! 🌍 And yes, we fill their days with content customers *actually* love. \n",
       "\n",
       "### 5G? You Bet!\n",
       "\n",
       "With our cutting-edge 5G Experience Lab, we’re making today's impossible tomorrow's possible! We're like the Prometheus of telecommunications (minus the liver-pecking from eagles).\n",
       "\n",
       "---\n",
       "\n",
       "## What Makes Amdocs, Amdocs?\n",
       "\n",
       "- **Global Impact:** Our solutions help over a billion consumers feel like VIPs. 🌟\n",
       "- **Revenue in 2023:** A dazzling **$4.89 billion**. Not too shabby, huh?\n",
       "- **Corporate Social Responsibility:** We don’t just collect awards like Pokémon cards, we actively make a difference in lives across social, economic, and environmental realms.\n",
       "\n",
       "---\n",
       "\n",
       "## Jumpstart Your Career\n",
       "\n",
       "**Careers with Amdocs:** Why work at average when you can make things amazing? 🚀 Join us and embark on a journey that's gratifying, dynamic, and downright fun. We have spots to fill for tech enthusiasts, marketing mavens, and everything in between! \n",
       "\n",
       "### Our Company Culture\n",
       "\n",
       "- **Imagine & Innovate:** At Amdocs, ideas aren’t just shared—they’re amplified.\n",
       "- **Teamwork Makes the Dream Work:** Join a team where collaboration is key and every voice counts (even the one suggesting we bring back VHS tapes for nostalgic reasons).\n",
       "- **Make it Awesome:** Whether you’re automating processes or launching a new product, mediocrity isn’t in our vocabulary.\n",
       "\n",
       "---\n",
       "\n",
       "## Why Choose Amdocs?\n",
       "\n",
       "- **Innovative Solutions:** From AI to clouds—yeah, we’ve got it all covered. Not the weather kind, though. ☁️\n",
       "- **Work & Play:** Flexible work arrangements allowing you to balance your inner workaholic with your couch-loving self. \n",
       "- **Learning & Growth:** The only stairs to climb are those taking you to success. And hey, who doesn’t love a good metaphorical climb?\n",
       "\n",
       "---\n",
       "\n",
       "Join us at Amdocs where we don’t just dream of a connected world, we build it! Ready to take the plunge? Head over to our **[Careers Page](#)** to start the adventure of a lifetime! 🚀🌐\n",
       "\n",
       "### Contact Us\n",
       "Got questions? Want to reach out? Don’t be shy; slide into our DMs or fill out our contact form. We promise we won't ghost you!\n",
       "\n",
       "---\n",
       "\n",
       "**Let’s make amazing things happen together!** 🌟✌️"
      ],
      "text/plain": [
       "<IPython.core.display.Markdown object>"
      ]
     },
     "metadata": {},
     "output_type": "display_data"
    }
   ],
   "source": [
    "create_brochure(\"Amdocs\", \"https://www.amdocs.com/\")"
   ]
  },
  {
   "cell_type": "code",
   "execution_count": 15,
   "id": "d116bee1-b7c8-46ab-a960-27d97dea8b94",
   "metadata": {},
   "outputs": [
    {
     "data": {
      "text/markdown": [
       "# Welcome to Hugging Face: The AI Playground of the Future! 🌟\n",
       "\n",
       "---\n",
       "\n",
       "## Who Are We? 🤔\n",
       "\n",
       "At **Hugging Face**, we're assembling the Avengers of Artificial Intelligence—one commit at a time! As the ultimate AI community, we’re on a heroic mission to **democratize good machine learning**. No world-conquering plans here, just good vibes and even better models!\n",
       "\n",
       "---\n",
       "\n",
       "## What Do We Offer? 💻\n",
       "\n",
       "Here at Hugging Face, you can:\n",
       "\n",
       "- **No Models Left Behind**: Browse over **400k+ machine learning models**. Treat them like Pokémon—gotta catch ‘em all! \n",
       "- **Quench Your Data Thirst**: Dive into our treasure trove of **100k+ datasets!** Just don’t get confused and try to drink them. 💧\n",
       "- **Space Invaders**: Create and share your application demos in our vibrant ML **Spaces**. Run your creations with a side of creativity!\n",
       "\n",
       "---\n",
       "\n",
       "## Our Customer Base: Who's Using Us? 🏢\n",
       "\n",
       "We’re not just a small corner of the internet; we’ve partnered with heavyweights! Over **50,000 organizations** such as **Amazon, Microsoft, and Google** are hugging us tightly. Did we mention there’s room on this big hug for you too?\n",
       "\n",
       "---\n",
       "\n",
       "## Looking for a Job? Join Our Hug! 🤗\n",
       "\n",
       "We’re always on the hunt for new talent! With a team vibe that’s part **scientist**, part **creative genius**, and a sprinkle of **tree-hugger**, we promise every day here feels like a passionate jam session. \n",
       "\n",
       "### Open Positions:\n",
       "\n",
       "1. **ML Wizard 🧙‍♂️**: Seeking those who have mastered the secrets of machine learning spells.\n",
       "2. **Data Guru 📊**: If you can conjure up numbers even in your sleep, we need you!\n",
       "3. **Technical Communicator ✍️**: Your mission—make complex algorithms sound as fun as a cat video.\n",
       "\n",
       "Join us, and let’s build something amazing!\n",
       "\n",
       "---\n",
       "\n",
       "## Our Culture: Hugging Faces, Not Just Algorithms! 🥳\n",
       "\n",
       "Life at Hugging Face is a blend of hard work, playful banter, and an occasional game of AI trivia. Our **company culture**? Think inclusive spaces invited to the party:\n",
       "\n",
       "- **Equal Opportunity for All**: A commitment to diversity, because good ideas come from all sources! 🌍\n",
       "- **Feedback is Food for Growth**: Bring snacks—and feedback! Everyone’s voice has value, even if it’s just for the brownie recipe.\n",
       "- **Work Hard, Play Hard**: Coffee breaks often turn into mini hackathons. If you overhear someone talking in code, don’t worry—they’re just having fun!\n",
       "\n",
       "---\n",
       "\n",
       "## Pricing Plans: Choose Your Adventure! 💸\n",
       "\n",
       "We're transparent like the best kind of AI:\n",
       "- **Free Forever**: Just like that friend who overstays their welcome but is still fun to have around.\n",
       "- **Pro Account for $9/month**: More features to help your ML game—think of it as the deluxe pizza upgrade.\n",
       "- **Enterprise**: Starting at $20/user/month for safety, security, and support... like a big, warm digital hug every month.\n",
       "\n",
       "---\n",
       "\n",
       "## Join the Hugging Revolution! 🚀\n",
       "\n",
       "Whether you're a customer, an investor, or potential team member, we invite you to join our community. With Hugging Face, you’re not just along for the ride; you’re building the future of AI with us—**hugs included**!\n",
       "\n",
       "For more information or to dive into the world of machine learning, visit [Hugging Face](https://huggingface.co). \n",
       "\n",
       "## Ready, Set, Hug! 🤗\n",
       "\n",
       "--- \n",
       "\n",
       "*Remember: Life is short; make sure your model is long!*"
      ],
      "text/plain": [
       "<IPython.core.display.Markdown object>"
      ]
     },
     "metadata": {},
     "output_type": "display_data"
    }
   ],
   "source": [
    "create_brochure(\"HuggingFace\", \"https://huggingface.co/\")"
   ]
  }
 ],
 "metadata": {
  "kernelspec": {
   "display_name": "Python 3 (ipykernel)",
   "language": "python",
   "name": "python3"
  },
  "language_info": {
   "codemirror_mode": {
    "name": "ipython",
    "version": 3
   },
   "file_extension": ".py",
   "mimetype": "text/x-python",
   "name": "python",
   "nbconvert_exporter": "python",
   "pygments_lexer": "ipython3",
   "version": "3.10.8"
  }
 },
 "nbformat": 4,
 "nbformat_minor": 5
}
