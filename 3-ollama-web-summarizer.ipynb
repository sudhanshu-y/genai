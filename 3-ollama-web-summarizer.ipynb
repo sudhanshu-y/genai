{
 "cells": [
  {
   "cell_type": "markdown",
   "id": "254550ab-4296-4d95-9fc6-a605d0d0d5c6",
   "metadata": {},
   "source": [
    "# Ollama web summarizer "
   ]
  },
  {
   "cell_type": "code",
   "execution_count": 1,
   "id": "463dfbbd-88b9-4d4e-b949-5729906719a5",
   "metadata": {},
   "outputs": [],
   "source": [
    "import os\n",
    "import requests\n",
    "from bs4 import BeautifulSoup\n",
    "from IPython.display import Markdown"
   ]
  },
  {
   "cell_type": "code",
   "execution_count": 2,
   "id": "c266532f-2dcc-4d61-a85f-2b49ba01c7e2",
   "metadata": {},
   "outputs": [],
   "source": [
    "class Website:\n",
    "    \"\"\"\n",
    "    A utility class to represent a Website that we have scraped\n",
    "    \"\"\"\n",
    "\n",
    "    def __init__(self, url):\n",
    "        \"\"\"\n",
    "        Create this Website object from the given url using the BeautifulSoup library\n",
    "        \"\"\"\n",
    "        self.url = url\n",
    "        response = requests.get(url)\n",
    "\n",
    "        # parse the HTML content of the webpage\n",
    "        soup = BeautifulSoup(response.content, 'html.parser')\n",
    "\n",
    "        # If a <title> tag exists, soup.title.string fetches its text content. \n",
    "        # If the title is missing, it assigns the string \"No title found\" to self.title.\n",
    "        self.title = soup.title.string if soup.title else \"No title found\"\n",
    "\n",
    "        # This loop iterates over and finds all <script>, <style>, <img>, and <input> elements within the <body> of the HTML.\n",
    "        # decompose() permanently removes these elements from the soup object to ensure that non-essential content doesn't clutter the text.\n",
    "        for irrelevant in soup.body([\"script\", \"style\", \"img\", \"input\"]):\n",
    "            irrelevant.decompose()\n",
    "        \n",
    "        self.text = soup.body.get_text(separator=\"\\n\", strip=True)"
   ]
  },
  {
   "cell_type": "code",
   "execution_count": 3,
   "id": "427a38cb-cf54-4e14-afc4-299be67f7c07",
   "metadata": {},
   "outputs": [],
   "source": [
    "system_prompt = \"You are an assistant that analyzes the contents of a website \\\n",
    "                and provides a short summary, ignoring text that might be navigation related. \\\n",
    "                Respond in markdown.\""
   ]
  },
  {
   "cell_type": "code",
   "execution_count": 4,
   "id": "d95e1b45-d7f6-4109-9c33-7dec910731b9",
   "metadata": {},
   "outputs": [],
   "source": [
    "def user_prompt_for(website):\n",
    "    user_prompt = f\"You are looking at a website titled {website.title}\"\n",
    "    user_prompt += \"\\nThe contents of this website is as follows; \\\n",
    "                    please provide a short summary of this website in markdown. \\\n",
    "                    If it includes news or announcements, then summarize these too.\\n\\n\"\n",
    "    user_prompt += website.text\n",
    "    return user_prompt"
   ]
  },
  {
   "cell_type": "code",
   "execution_count": 5,
   "id": "02c96f50-d3f0-4a72-a579-2f35ce6b6903",
   "metadata": {},
   "outputs": [],
   "source": [
    "def messages_for(website):\n",
    "    return [\n",
    "        {\"role\": \"system\", \"content\": system_prompt},\n",
    "        {\"role\": \"user\", \"content\": user_prompt_for(website)}\n",
    "    ]"
   ]
  },
  {
   "cell_type": "code",
   "execution_count": 6,
   "id": "7db4a894-430e-4778-9032-ad775ff3af95",
   "metadata": {},
   "outputs": [],
   "source": [
    "import ollama\n",
    "\n",
    "def summarize(url):\n",
    "    website = Website(url)\n",
    "    response = ollama.chat(\n",
    "        model='llama3.2', \n",
    "        messages = messages_for(website)\n",
    "    )\n",
    "    return response['message']['content']"
   ]
  },
  {
   "cell_type": "code",
   "execution_count": 7,
   "id": "9b86ae23-9c57-4d73-982c-d1d5a5ea82ad",
   "metadata": {},
   "outputs": [],
   "source": [
    "web_summary = summarize(\"https://link.springer.com/chapter/10.1007/978-981-15-7219-7_22\")"
   ]
  },
  {
   "cell_type": "code",
   "execution_count": 8,
   "id": "a4045ac9-ac20-40f8-bd74-e86835ad6ccf",
   "metadata": {},
   "outputs": [
    {
     "data": {
      "text/markdown": [
       "Here is the paper summary in a shorter format:\n",
       "\n",
       "**Title**: Convolutional Neural Network Based Chest X-Ray Image Classification for Pneumonia Diagnosis.\n",
       "\n",
       "**Authors:** Rushi Bhatt, Sudhanshu sinh Yadav, and Jignesh N Sarvaiya.\n",
       "\n",
       "**Journal:** Communications in Computer and Information Science, Springe, Singapore, and the S. National Institute of Technology.\n",
       "\n",
       "The study examines a machine learning approach to classify pneumonia on chest X-Ray images using the Convolutional Neural Network.\n",
       "\n",
       "**Abstract:**\n",
       "\n",
       "Pneumonia can be an acute infectious lung disease that can cause significant mortality rates globally, especially in low-income regions, the dataset was collected for developing predictive models. \n",
       "\n",
       "This research uses data and dataset from the original source with permission. We thank the authors of [15] for sharing their results.\n",
       "\n",
       "In this paper study we explore using a Machine learning algorithm to develop a Convolutional neural network based model for classification, chest X-ray images of Pneumonia diagnosis by applying CNN architecture for classifying image features learned from deep learning techniques using pre-trained models and fine tuning the trained model by removing noise.\n",
       "Keywords: \n",
       "Convolutional Neural Networks (CNN) and Image Classfication  of \n",
       "\n",
       "Jignesh Sarvaiya\n",
       "View author publications\n",
       "You can also search for this author in\n",
       "\n",
       " PubMed"
      ],
      "text/plain": [
       "<IPython.core.display.Markdown object>"
      ]
     },
     "execution_count": 8,
     "metadata": {},
     "output_type": "execute_result"
    }
   ],
   "source": [
    "Markdown(web_summary)"
   ]
  }
 ],
 "metadata": {
  "kernelspec": {
   "display_name": "Python 3 (ipykernel)",
   "language": "python",
   "name": "python3"
  },
  "language_info": {
   "codemirror_mode": {
    "name": "ipython",
    "version": 3
   },
   "file_extension": ".py",
   "mimetype": "text/x-python",
   "name": "python",
   "nbconvert_exporter": "python",
   "pygments_lexer": "ipython3",
   "version": "3.10.8"
  }
 },
 "nbformat": 4,
 "nbformat_minor": 5
}
