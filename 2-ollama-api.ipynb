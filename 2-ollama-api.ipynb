{
 "cells": [
  {
   "cell_type": "markdown",
   "id": "43773725-1946-465a-bb73-97f797736063",
   "metadata": {},
   "source": [
    "### Open Source model running locally via Ollama rather than OpenAI\n",
    "**Benefits:**\n",
    "1. No API charges - open-source\n",
    "2. Data doesn't leave the box\n",
    "\n",
    "**Disadvantages:**\n",
    "1. Significantly less power than Frontier Model\n",
    "\n",
    "Make sure that ollma server is running: \n",
    "[http://localhost:11434/](http://localhost:11434/)"
   ]
  },
  {
   "cell_type": "code",
   "execution_count": 1,
   "id": "16088d2c-cf80-4048-99ea-f98804987ae5",
   "metadata": {},
   "outputs": [],
   "source": [
    "import requests\n",
    "from IPython.display import Markdown, display"
   ]
  },
  {
   "cell_type": "code",
   "execution_count": 2,
   "id": "628b7897-ed5a-4b14-afb1-eaef7c0a2fc6",
   "metadata": {},
   "outputs": [],
   "source": [
    "MODEL = \"llama3.2\"\n",
    "messages = [\n",
    "    {\"role\": \"user\", \"content\": \"Describe some of the business applications of Generative AI\"}\n",
    "]"
   ]
  },
  {
   "cell_type": "code",
   "execution_count": 3,
   "id": "5fa3d39c-6e0d-4133-9761-5870b2333486",
   "metadata": {},
   "outputs": [],
   "source": [
    "import ollama\n",
    "\n",
    "response = ollama.chat(model=MODEL, messages=messages)"
   ]
  },
  {
   "cell_type": "code",
   "execution_count": 4,
   "id": "9ce3061a-ff55-4703-a0cd-c0eaf2a49a2b",
   "metadata": {},
   "outputs": [
    {
     "data": {
      "text/markdown": [
       "Generative AI has numerous business applications across various industries, including:\n",
       "\n",
       "1. **Content Creation**: Generative AI can be used to generate high-quality content such as blog posts, social media posts, and product descriptions. This can help businesses save time and resources while maintaining consistency in their content.\n",
       "2. **Marketing Automation**: Generative AI can be used to personalize marketing campaigns by generating personalized emails, messages, and offers based on customer data and behavior.\n",
       "3. **Product Design**: Generative AI can be used to design new products and prototypes quickly and efficiently. This can help businesses reduce the time and cost associated with traditional product development methods.\n",
       "4. **Image and Video Generation**: Generative AI can be used to generate high-quality images and videos for marketing, advertising, and other purposes.\n",
       "5. **Music and Audio Generation**: Generative AI can be used to create original music and audio tracks for various applications such as film, television, and video games.\n",
       "6. **Chatbots and Virtual Assistants**: Generative AI can be used to power chatbots and virtual assistants that provide customer support and answer frequently asked questions.\n",
       "7. **Predictive Maintenance**: Generative AI can be used to predict equipment failures and schedule maintenance in advance, reducing downtime and increasing productivity.\n",
       "8. **Financial Analysis**: Generative AI can be used to analyze large datasets of financial information and identify trends and patterns that may not be visible to human analysts.\n",
       "9. **Risk Management**: Generative AI can be used to identify potential risks and develop strategies for mitigating them.\n",
       "10. **Customer Service**: Generative AI can be used to provide personalized customer service by generating responses to customer inquiries and providing recommendations based on customer data and behavior.\n",
       "\n",
       "Some specific examples of businesses that are using Generative AI include:\n",
       "\n",
       "* **Salesforce**: Using generative AI to personalize sales outreach and improve customer engagement.\n",
       "* **Amazon**: Using generative AI to generate product reviews and descriptions.\n",
       "* **Dell**: Using generative AI to design new products and reduce development time.\n",
       "* **Netflix**: Using generative AI to create personalized content recommendations for customers.\n",
       "\n",
       "These are just a few examples of the many ways that Generative AI is being used in business. As the technology continues to evolve, we can expect to see even more innovative applications across various industries."
      ],
      "text/plain": [
       "<IPython.core.display.Markdown object>"
      ]
     },
     "metadata": {},
     "output_type": "display_data"
    }
   ],
   "source": [
    "display(Markdown(response['message']['content']))"
   ]
  }
 ],
 "metadata": {
  "kernelspec": {
   "display_name": "Python 3 (ipykernel)",
   "language": "python",
   "name": "python3"
  },
  "language_info": {
   "codemirror_mode": {
    "name": "ipython",
    "version": 3
   },
   "file_extension": ".py",
   "mimetype": "text/x-python",
   "name": "python",
   "nbconvert_exporter": "python",
   "pygments_lexer": "ipython3",
   "version": "3.10.8"
  }
 },
 "nbformat": 4,
 "nbformat_minor": 5
}
