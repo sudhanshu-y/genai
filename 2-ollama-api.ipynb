{
 "cells": [
  {
   "cell_type": "markdown",
   "id": "43773725-1946-465a-bb73-97f797736063",
   "metadata": {},
   "source": [
    "### Open Source model running locally via Ollama rather than OpenAI\n",
    "**Benefits:**\n",
    "1. No API charges - open-source\n",
    "2. Data doesn't leave the box\n",
    "\n",
    "**Disadvantages:**\n",
    "1. Significantly less power than Frontier Model\n",
    "\n",
    "Make sure that ollma server is running: \n",
    "[http://localhost:11434/](http://localhost:11434/)"
   ]
  },
  {
   "cell_type": "code",
   "execution_count": 1,
   "id": "16088d2c-cf80-4048-99ea-f98804987ae5",
   "metadata": {},
   "outputs": [],
   "source": [
    "import requests\n",
    "from bs4 import BeautifulSoup\n",
    "from IPython.display import Markdown, display"
   ]
  },
  {
   "cell_type": "code",
   "execution_count": 2,
   "id": "628b7897-ed5a-4b14-afb1-eaef7c0a2fc6",
   "metadata": {},
   "outputs": [],
   "source": [
    "MODEL = \"llama3.2\"\n",
    "messages = [\n",
    "    {\"role\": \"user\", \"content\": \"Describe some of the business applications of Generative AI\"}\n",
    "]"
   ]
  },
  {
   "cell_type": "code",
   "execution_count": 3,
   "id": "5fa3d39c-6e0d-4133-9761-5870b2333486",
   "metadata": {},
   "outputs": [],
   "source": [
    "import ollama\n",
    "\n",
    "response = ollama.chat(model=MODEL, messages=messages)"
   ]
  },
  {
   "cell_type": "code",
   "execution_count": 4,
   "id": "fe4d71b5-9d73-41be-ae13-ee9234d9f4e3",
   "metadata": {},
   "outputs": [
    {
     "name": "stdout",
     "output_type": "stream",
     "text": [
      "Generative AI has numerous business applications across various industries, including:\n",
      "\n",
      "1. **Content Generation**: Automate content creation, such as articles, social media posts, and product descriptions, using generative models like language generators or image generators.\n",
      "2. **Marketing Automation**: Use generative AI to personalize marketing campaigns, create personalized ads, and generate lead magnets.\n",
      "3. **Product Design**: Employ generative design tools to create new product designs, prototypes, and concept art, streamlining the design process and reducing costs.\n",
      "4. **Data Analysis and Visualization**: Utilize generative models like autoencoders or GANs to analyze and visualize large datasets, uncovering patterns and insights that might have gone unnoticed by humans.\n",
      "5. **Image and Video Editing**: Leverage generative AI-powered tools for image editing, such as automatic photo retouching, and video editing, like creating realistic special effects.\n",
      "6. **Chatbots and Virtual Assistants**: Develop chatbots and virtual assistants using generative models to provide personalized customer support, answer frequently asked questions, and route complex issues.\n",
      "7. **Predictive Maintenance**: Use generative AI to predict equipment failures, reducing downtime and increasing overall equipment effectiveness in industries like manufacturing and transportation.\n",
      "8. **Supply Chain Optimization**: Employ generative models to optimize supply chain operations, such as forecasting demand, predicting logistics bottlenecks, and identifying potential shortages.\n",
      "9. **Financial Modeling and Risk Analysis**: Utilize generative AI for financial modeling, risk analysis, and portfolio optimization, enabling businesses to make data-driven investment decisions.\n",
      "10. **Customer Service and Support**: Leverage generative AI-powered tools to provide 24/7 customer support, respond to inquiries, and resolve simple issues, freeing up human agents to focus on complex problems.\n",
      "\n",
      "Some notable business applications of Generative AI include:\n",
      "\n",
      "* **Personalized advertising**: Companies like Google and Facebook use generative models to create personalized ads based on user behavior, preferences, and demographics.\n",
      "* **Automated content creation**: Businesses like Buzzfeed and Taboola use generative models to create engaging content for their users.\n",
      "* **Product design**: Companies like Nike and Apple use generative design tools to create innovative product designs.\n",
      "* **Predictive maintenance**: Manufacturers like GE and Siemens use generative AI to predict equipment failures, reducing downtime and increasing overall equipment effectiveness.\n",
      "\n",
      "These are just a few examples of the many business applications of Generative AI. As the technology continues to evolve, we can expect to see even more innovative uses across various industries.\n"
     ]
    }
   ],
   "source": [
    "print(response['message']['content'])"
   ]
  },
  {
   "cell_type": "code",
   "execution_count": 5,
   "id": "9ce3061a-ff55-4703-a0cd-c0eaf2a49a2b",
   "metadata": {},
   "outputs": [
    {
     "data": {
      "text/markdown": [
       "Generative AI has numerous business applications across various industries, including:\n",
       "\n",
       "1. **Content Generation**: Automate content creation, such as articles, social media posts, and product descriptions, using generative models like language generators or image generators.\n",
       "2. **Marketing Automation**: Use generative AI to personalize marketing campaigns, create personalized ads, and generate lead magnets.\n",
       "3. **Product Design**: Employ generative design tools to create new product designs, prototypes, and concept art, streamlining the design process and reducing costs.\n",
       "4. **Data Analysis and Visualization**: Utilize generative models like autoencoders or GANs to analyze and visualize large datasets, uncovering patterns and insights that might have gone unnoticed by humans.\n",
       "5. **Image and Video Editing**: Leverage generative AI-powered tools for image editing, such as automatic photo retouching, and video editing, like creating realistic special effects.\n",
       "6. **Chatbots and Virtual Assistants**: Develop chatbots and virtual assistants using generative models to provide personalized customer support, answer frequently asked questions, and route complex issues.\n",
       "7. **Predictive Maintenance**: Use generative AI to predict equipment failures, reducing downtime and increasing overall equipment effectiveness in industries like manufacturing and transportation.\n",
       "8. **Supply Chain Optimization**: Employ generative models to optimize supply chain operations, such as forecasting demand, predicting logistics bottlenecks, and identifying potential shortages.\n",
       "9. **Financial Modeling and Risk Analysis**: Utilize generative AI for financial modeling, risk analysis, and portfolio optimization, enabling businesses to make data-driven investment decisions.\n",
       "10. **Customer Service and Support**: Leverage generative AI-powered tools to provide 24/7 customer support, respond to inquiries, and resolve simple issues, freeing up human agents to focus on complex problems.\n",
       "\n",
       "Some notable business applications of Generative AI include:\n",
       "\n",
       "* **Personalized advertising**: Companies like Google and Facebook use generative models to create personalized ads based on user behavior, preferences, and demographics.\n",
       "* **Automated content creation**: Businesses like Buzzfeed and Taboola use generative models to create engaging content for their users.\n",
       "* **Product design**: Companies like Nike and Apple use generative design tools to create innovative product designs.\n",
       "* **Predictive maintenance**: Manufacturers like GE and Siemens use generative AI to predict equipment failures, reducing downtime and increasing overall equipment effectiveness.\n",
       "\n",
       "These are just a few examples of the many business applications of Generative AI. As the technology continues to evolve, we can expect to see even more innovative uses across various industries."
      ],
      "text/plain": [
       "<IPython.core.display.Markdown object>"
      ]
     },
     "metadata": {},
     "output_type": "display_data"
    }
   ],
   "source": [
    "display(Markdown(response['message']['content']))"
   ]
  }
 ],
 "metadata": {
  "kernelspec": {
   "display_name": "Python 3 (ipykernel)",
   "language": "python",
   "name": "python3"
  },
  "language_info": {
   "codemirror_mode": {
    "name": "ipython",
    "version": 3
   },
   "file_extension": ".py",
   "mimetype": "text/x-python",
   "name": "python",
   "nbconvert_exporter": "python",
   "pygments_lexer": "ipython3",
   "version": "3.10.8"
  }
 },
 "nbformat": 4,
 "nbformat_minor": 5
}
