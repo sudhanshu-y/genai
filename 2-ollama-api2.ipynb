{
 "cells": [
  {
   "cell_type": "markdown",
   "id": "8d617545-67b3-42f8-a5c2-04d2737bcce0",
   "metadata": {},
   "source": [
    "### Open Source model running locally via Ollama rather than OpenAI\n",
    "**Benefits:**\n",
    "1. No API charges - open-source\n",
    "2. Data doesn't leave the box\n",
    "\n",
    "**Disadvantages:**\n",
    "1. Significantly less power than Frontier Model\n",
    "\n",
    "Make sure that ollma server is running: \n",
    "[http://localhost:11434/](http://localhost:11434/)"
   ]
  },
  {
   "cell_type": "code",
   "execution_count": 1,
   "id": "60467dca-50b5-4b6a-b365-09183230429a",
   "metadata": {},
   "outputs": [],
   "source": [
    "import requests\n",
    "from bs4 import BeautifulSoup\n",
    "from IPython.display import Markdown, display"
   ]
  },
  {
   "cell_type": "code",
   "execution_count": 2,
   "id": "bcd5d14b-881b-45fd-abaf-ed36ddcad85b",
   "metadata": {},
   "outputs": [],
   "source": [
    "OLLAMA_API = \"http://localhost:11434/api/chat\"\n",
    "HEADERS = {\"Content-Type\": \"application/json\"}\n",
    "MODEL = \"llama3.2\""
   ]
  },
  {
   "cell_type": "code",
   "execution_count": 3,
   "id": "99fbf6a1-5869-4b2f-b276-59d79ea9e339",
   "metadata": {},
   "outputs": [],
   "source": [
    "messages = [\n",
    "    {\"role\": \"user\", \"content\": \"Describe some of the leading companied in filed of Generative AI\"}\n",
    "]\n",
    "\n",
    "payload = {\n",
    "        \"model\": MODEL,\n",
    "        \"messages\": messages,\n",
    "        \"stream\": False\n",
    "    }"
   ]
  },
  {
   "cell_type": "code",
   "execution_count": 4,
   "id": "f5f1000b-3642-4629-ae2f-45748bf5742f",
   "metadata": {},
   "outputs": [
    {
     "name": "stdout",
     "output_type": "stream",
     "text": [
      "Here are some leading companies in the field of Generative AI:\n",
      "\n",
      "1. **DeepMind**: Developed by Alphabet Inc., DeepMind is a UK-based artificial intelligence lab that has made significant contributions to Generative AI, including Generative Adversarial Networks (GANs) and Variational Autoencoders (VAEs).\n",
      "2. **Google Brain**: Google's artificial intelligence division, Google Brain, has developed several Generative AI models, including the Neural Style Transfer algorithm, which can transform images into different styles.\n",
      "3. **Microsoft Research**: Microsoft Research has made significant contributions to Generative AI, including the development of the AlphaFold 2 model, which can predict protein structures with high accuracy.\n",
      "4. **Facebook AI**: Facebook AI has developed several Generative AI models, including the Deep Dream Generator, which can generate surreal and dreamlike images from ordinary photos.\n",
      "5. **NVIDIA**: NVIDIA is a leading provider of graphics processing units (GPUs) that are used to train Generative AI models. The company has also developed its own Generative AI framework, called Nvidia Deep Learning Institute.\n",
      "6. **Hugging Face**: Hugging Face is a company that provides pre-trained language models and tools for natural language processing, including Generative AI models like the popular BERT (Bidirectional Encoder Representations from Transformers) model.\n",
      "7. **Stanford Natural Language Processing Group**: The Stanford Natural Language Processing Group has made significant contributions to Generative AI in the field of natural language processing, including the development of the Sequence-to-Sequence model.\n",
      "8. **IBM Watson**: IBM Watson is a cloud-based AI platform that includes several Generative AI tools, such as the Watson Assistant, which can generate human-like responses to customer queries.\n",
      "9. **Amazon SageMaker**: Amazon SageMaker is a fully managed service for building, training, and deploying machine learning models, including Generative AI models.\n",
      "10. **ByteDance**: ByteDance is a Chinese technology company that has developed several Generative AI models, including the popular DALL-E model, which can generate images from text prompts.\n",
      "\n",
      "These companies are at the forefront of developing and applying Generative AI technologies in various industries, including computer vision, natural language processing, and music generation.\n"
     ]
    }
   ],
   "source": [
    "response = requests.post(OLLAMA_API, json=payload, headers=HEADERS)\n",
    "print(response.json()['message']['content'])"
   ]
  },
  {
   "cell_type": "code",
   "execution_count": 5,
   "id": "ef6c5888-a504-43f4-b8c9-b499bc892da9",
   "metadata": {},
   "outputs": [
    {
     "data": {
      "text/markdown": [
       "Here are some leading companies in the field of Generative AI:\n",
       "\n",
       "1. **DeepMind**: Developed by Alphabet Inc., DeepMind is a UK-based artificial intelligence lab that has made significant contributions to Generative AI, including Generative Adversarial Networks (GANs) and Variational Autoencoders (VAEs).\n",
       "2. **Google Brain**: Google's artificial intelligence division, Google Brain, has developed several Generative AI models, including the Neural Style Transfer algorithm, which can transform images into different styles.\n",
       "3. **Microsoft Research**: Microsoft Research has made significant contributions to Generative AI, including the development of the AlphaFold 2 model, which can predict protein structures with high accuracy.\n",
       "4. **Facebook AI**: Facebook AI has developed several Generative AI models, including the Deep Dream Generator, which can generate surreal and dreamlike images from ordinary photos.\n",
       "5. **NVIDIA**: NVIDIA is a leading provider of graphics processing units (GPUs) that are used to train Generative AI models. The company has also developed its own Generative AI framework, called Nvidia Deep Learning Institute.\n",
       "6. **Hugging Face**: Hugging Face is a company that provides pre-trained language models and tools for natural language processing, including Generative AI models like the popular BERT (Bidirectional Encoder Representations from Transformers) model.\n",
       "7. **Stanford Natural Language Processing Group**: The Stanford Natural Language Processing Group has made significant contributions to Generative AI in the field of natural language processing, including the development of the Sequence-to-Sequence model.\n",
       "8. **IBM Watson**: IBM Watson is a cloud-based AI platform that includes several Generative AI tools, such as the Watson Assistant, which can generate human-like responses to customer queries.\n",
       "9. **Amazon SageMaker**: Amazon SageMaker is a fully managed service for building, training, and deploying machine learning models, including Generative AI models.\n",
       "10. **ByteDance**: ByteDance is a Chinese technology company that has developed several Generative AI models, including the popular DALL-E model, which can generate images from text prompts.\n",
       "\n",
       "These companies are at the forefront of developing and applying Generative AI technologies in various industries, including computer vision, natural language processing, and music generation."
      ],
      "text/plain": [
       "<IPython.core.display.Markdown object>"
      ]
     },
     "metadata": {},
     "output_type": "display_data"
    }
   ],
   "source": [
    "display(Markdown(response.json()['message']['content']))"
   ]
  }
 ],
 "metadata": {
  "kernelspec": {
   "display_name": "Python 3 (ipykernel)",
   "language": "python",
   "name": "python3"
  },
  "language_info": {
   "codemirror_mode": {
    "name": "ipython",
    "version": 3
   },
   "file_extension": ".py",
   "mimetype": "text/x-python",
   "name": "python",
   "nbconvert_exporter": "python",
   "pygments_lexer": "ipython3",
   "version": "3.10.8"
  }
 },
 "nbformat": 4,
 "nbformat_minor": 5
}
